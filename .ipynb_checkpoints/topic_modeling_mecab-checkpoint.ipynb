{
 "cells": [
  {
   "cell_type": "code",
   "execution_count": 6,
   "metadata": {
    "ExecuteTime": {
     "end_time": "2018-12-09T14:24:38.540945Z",
     "start_time": "2018-12-09T14:24:38.534201Z"
    }
   },
   "outputs": [],
   "source": [
    "from konlpy.tag import Mecab\n",
    "try:\n",
    "    import ujson\n",
    "except ImportError:\n",
    "    import json"
   ]
  },
  {
   "cell_type": "code",
   "execution_count": 7,
   "metadata": {
    "ExecuteTime": {
     "end_time": "2018-12-09T14:24:38.896328Z",
     "start_time": "2018-12-09T14:24:38.890858Z"
    }
   },
   "outputs": [],
   "source": [
    "mecab = Mecab()"
   ]
  },
  {
   "cell_type": "code",
   "execution_count": 8,
   "metadata": {
    "ExecuteTime": {
     "end_time": "2018-12-09T14:24:46.181805Z",
     "start_time": "2018-12-09T14:24:40.385369Z"
    }
   },
   "outputs": [],
   "source": [
    "with open('./data/2017_03.json') as f:\n",
    "    data = json.load(f)"
   ]
  },
  {
   "cell_type": "code",
   "execution_count": 9,
   "metadata": {
    "ExecuteTime": {
     "end_time": "2018-12-09T14:25:05.994441Z",
     "start_time": "2018-12-09T14:25:05.987842Z"
    }
   },
   "outputs": [
    {
     "data": {
      "text/plain": [
       "{'date': '2017-03-01',\n",
       " 'text': '플레이어 이동시키기 플레이어 닫기\\n\\n<앵커>\\n\\n\\n\\n98년 전 3월 1일 태극기를 들고 거리로 나서서 독립을 외치던 우리의 할아버지, 할머니들이 오늘(1일) 서울 한복판이 이렇게 둘로 갈라진 모습을 보면 뭐라고 생각하실까요? 탄핵 찬성과 반대, 각각 목소리를 높인 집회 참가자들 머리 위로는 비가 내렸고, 날씨는 을씨년스러웠습니다.\\n\\n\\n\\n먼저 권란 기자가 오늘 집회 상황 종합했습니다.\\n\\n\\n\\n<기자>\\n\\n\\n\\n광화문 광장과 맞닿은 세종대로 남쪽에서 먼저 탄핵 반대 집회가 시작됐습니다.\\n\\n\\n\\n서울광장에 이어 숭례문까지 태극기를 든 참가자들로 꽉 찼습니다.\\n\\n\\n\\n대형 태극기에다 성조기까지 등장했고, 고 박정희 전 대통령의 얼굴이 그려진 깃발도 배포됐습니다.\\n\\n\\n\\n참가자들은 헌재의 탄핵 결정을 앞두고 목청 높여 탄핵에 반대했습니다.\\n\\n\\n\\n \\n\\n\\n\\n집회 시작 네 시간쯤 뒤부터는 탄핵 반대 집회 측으로선 처음으로 청와대 방향 행진을 시작했습니다.\\n\\n\\n\\n헌재와 도심 등 5개 경로로 행진을 이어갔습니다.\\n\\n\\n\\n탄핵 반대 집회가 끝나갈 무렵인 오후 5시쯤부터는 탄핵 찬성 집회가 세종대로 북쪽 광화문광장에서 열렸습니다.\\n\\n\\n\\n충돌을 우려해 경찰이 차벽으로 양측을 막아선 가운데, 촛불을 든 시민들은 헌재의 탄핵 인용 결정을 촉구하며 목소리를 높였습니다.\\n\\n\\n\\n \\n\\n\\n\\n특히 3.1절을 맞아 위안부 피해자 이용수 할머니가 무대에 올라 아리랑을 부르자, 참가자 모두 따라 부르기도 했습니다.\\n\\n\\n\\n \\n\\n\\n\\n박근혜 대통령 탄핵 여부가 결정되는 운명의 3월 첫날에 서울 도심 광장을 둘로 나눈 대규모 집회여서 충돌이 걱정됐지만 다행히 아직 불상사는 없는 상황입니다.\\n\\n\\n\\n(영상취재 : 신진수·김성일·박진호, 영상편집 : 윤선영)',\n",
       " 'title': '대통령 운명 결정할 3월…탄핵 찬반에 둘로 나뉜 3·1절'}"
      ]
     },
     "execution_count": 9,
     "metadata": {},
     "output_type": "execute_result"
    }
   ],
   "source": [
    "data[0]"
   ]
  },
  {
   "cell_type": "code",
   "execution_count": 11,
   "metadata": {
    "ExecuteTime": {
     "end_time": "2018-12-09T14:27:21.212946Z",
     "start_time": "2018-12-09T14:26:55.431226Z"
    }
   },
   "outputs": [
    {
     "name": "stdout",
     "output_type": "stream",
     "text": [
      "0\n",
      "1000\n",
      "2000\n",
      "3000\n",
      "4000\n",
      "5000\n",
      "6000\n",
      "7000\n",
      "8000\n",
      "9000\n",
      "10000\n"
     ]
    }
   ],
   "source": [
    "tags = set(['NNG', 'NNP', 'VA', 'VV'])\n",
    "article_list = []\n",
    "for i, article in enumerate(data):\n",
    "    if i % 1000 == 0:\n",
    "        print(i)\n",
    "    \n",
    "    text = article['text'].strip()\n",
    "    if len(text) > 10:\n",
    "        article_list.append([w for w, t in mecab.pos(text) if t in tags and len(w) > 1])\n",
    "\n",
    "        if len(article_list) == 10000:\n",
    "            break"
   ]
  },
  {
   "cell_type": "code",
   "execution_count": 12,
   "metadata": {
    "ExecuteTime": {
     "end_time": "2018-12-09T14:27:26.524015Z",
     "start_time": "2018-12-09T14:27:25.368401Z"
    }
   },
   "outputs": [],
   "source": [
    "from collections import Counter\n",
    "\n",
    "word_count = Counter()\n",
    "\n",
    "for words_list in article_list:\n",
    "    word_count.update(words_list)\n",
    "    \n",
    "voca = [w for w, freq in word_count.most_common(10000)]\n",
    "word2id = {w: i for i, w in enumerate(voca)}\n",
    "\n",
    "article_list_ = []\n",
    "for words_list in article_list:\n",
    "    words = [w for w in words_list if w in word2id]\n",
    "    if len(words) >= 5:\n",
    "        article_list_.append(words)"
   ]
  },
  {
   "cell_type": "code",
   "execution_count": 13,
   "metadata": {
    "ExecuteTime": {
     "end_time": "2018-12-09T14:27:37.595407Z",
     "start_time": "2018-12-09T14:27:27.385385Z"
    }
   },
   "outputs": [
    {
     "data": {
      "text/plain": [
       "array([[0.47434166, 0.10540926, 0.42163703, ..., 0.        , 0.        ,\n",
       "        0.        ],\n",
       "       [0.34174308, 0.42717883, 0.17087154, ..., 0.        , 0.        ,\n",
       "        0.        ],\n",
       "       [0.39361864, 0.45576894, 0.        , ..., 0.        , 0.        ,\n",
       "        0.        ],\n",
       "       ...,\n",
       "       [0.04199605, 0.        , 0.        , ..., 0.        , 0.        ,\n",
       "        0.        ],\n",
       "       [0.03155972, 0.06311944, 0.03155972, ..., 0.        , 0.        ,\n",
       "        0.        ],\n",
       "       [0.        , 0.        , 0.        , ..., 0.        , 0.        ,\n",
       "        0.        ]], dtype=float32)"
      ]
     },
     "execution_count": 13,
     "metadata": {},
     "output_type": "execute_result"
    }
   ],
   "source": [
    "import numpy as np\n",
    "from sklearn.preprocessing import normalize\n",
    "\n",
    "tdm = np.zeros((len(article_list_), len(voca)), dtype=np.float32)\n",
    "for i, words in enumerate(article_list_):\n",
    "    for word in words:\n",
    "        try:\n",
    "            tdm[i, word2id[word]] += 1\n",
    "        except KeyError:\n",
    "            pass\n",
    "        \n",
    "normalize(tdm, copy=False)"
   ]
  },
  {
   "cell_type": "code",
   "execution_count": 14,
   "metadata": {
    "ExecuteTime": {
     "end_time": "2018-12-09T14:28:30.483262Z",
     "start_time": "2018-12-09T14:27:37.599514Z"
    }
   },
   "outputs": [],
   "source": [
    "from sklearn.decomposition import NMF\n",
    "\n",
    "K = 10\n",
    "nmf = NMF(n_components=K)\n",
    "W = nmf.fit_transform(tdm)\n",
    "H = nmf.components_"
   ]
  },
  {
   "cell_type": "code",
   "execution_count": 15,
   "metadata": {
    "ExecuteTime": {
     "end_time": "2018-12-09T14:28:30.517174Z",
     "start_time": "2018-12-09T14:28:30.491223Z"
    }
   },
   "outputs": [
    {
     "name": "stdout",
     "output_type": "stream",
     "text": [
      "0th topic\n",
      "탄핵 기각 국민 운동 총궐기 본부 반대 대통령 집회 주최 절인 기국 서울 사진 열리 동취 오후 재단 사거리 단체 \n",
      "1th topic\n",
      "방송 사고 등장 부부 행복 스타 웃음 사탕 켈리 지사 출연 안희정 세월 차량 사진 김문수 중대 인단 발언 설명 \n",
      "2th topic\n",
      "태극기 집회 탄핵 반대 참가자 행진 오후 참석 경찰 단체 의원 촛불 기자 사거리 대한문 이날 기국 보수 흔들 주장 \n",
      "3th topic\n",
      "대표 지사 민주당 대선 국민 의원 후보 정치 정당 시장 문재인 더불 주자 탄핵 안희정 자유 국당 기자 이날 강조 \n",
      "4th topic\n",
      "대선 사람 지원 불출마 보통 한국 정부 기업 검찰 황교안 인상 금리 주택 소환 청춘 선언 이상 시간 출시 진행 \n",
      "5th topic\n",
      "집회 촛불 박근혜 광장 퇴진 탄핵 광화문 행동 촉구 오후 국민 시민 인용 구속 행진 정권 이날 황교안 참가자 만세 \n",
      "6th topic\n",
      "서울 기자 뉴스 오후 광장 뉴시스 광화문 참가자 박근혜 종로구 절인 외치 촉구 시장 구호 경찰 전신 무단 참석자 서울시 \n",
      "7th topic\n",
      "특검 수사 검찰 국회 연장 국민 특별 검사 최순 대행 박영수 결과 처리 수석 의장 조사 권한 직권상정 국정 개정안 \n",
      "8th topic\n",
      "대통령 박근혜 탄핵 주장 정치 사람 청와대 변호사 최순 인단 대리 출마 국정 촉구 심판 문제 국가 대선 발언 소추 \n",
      "9th topic\n",
      "탄핵 헌재 심판 헌법 재판관 선고 재판소 결정 대행 권한 국회 인용 변론 평의 이정미 최종 기자 의견 소장 절차 \n"
     ]
    }
   ],
   "source": [
    "for k in range(K):\n",
    "    print(f\"{k}th topic\")\n",
    "    for i in H[k].argsort()[::-1][:20]:\n",
    "        print(voca[i], end=' ')\n",
    "    print()"
   ]
  },
  {
   "cell_type": "code",
   "execution_count": 16,
   "metadata": {
    "ExecuteTime": {
     "end_time": "2018-12-09T14:29:54.678558Z",
     "start_time": "2018-12-09T14:29:54.667483Z"
    }
   },
   "outputs": [
    {
     "data": {
      "text/plain": [
       "[('최순', 'NNP'), ('실', 'NNG')]"
      ]
     },
     "execution_count": 16,
     "metadata": {},
     "output_type": "execute_result"
    }
   ],
   "source": [
    "mecab.pos(\"최순실\")"
   ]
  },
  {
   "cell_type": "code",
   "execution_count": 18,
   "metadata": {
    "ExecuteTime": {
     "end_time": "2018-12-09T14:32:48.316441Z",
     "start_time": "2018-12-09T14:32:48.305760Z"
    }
   },
   "outputs": [
    {
     "data": {
      "text/plain": [
       "[('삼', 'NR'), ('일', 'NNBC'), ('절인', 'NNG')]"
      ]
     },
     "execution_count": 18,
     "metadata": {},
     "output_type": "execute_result"
    }
   ],
   "source": [
    "mecab.pos(\"삼일절인\")"
   ]
  },
  {
   "cell_type": "code",
   "execution_count": null,
   "metadata": {},
   "outputs": [],
   "source": []
  }
 ],
 "metadata": {
  "kernelspec": {
   "display_name": "Python 3",
   "language": "python",
   "name": "python3"
  },
  "language_info": {
   "codemirror_mode": {
    "name": "ipython",
    "version": 3
   },
   "file_extension": ".py",
   "mimetype": "text/x-python",
   "name": "python",
   "nbconvert_exporter": "python",
   "pygments_lexer": "ipython3",
   "version": "3.7.0"
  }
 },
 "nbformat": 4,
 "nbformat_minor": 2
}
